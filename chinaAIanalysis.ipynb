{
 "cells": [
  {
   "cell_type": "code",
   "execution_count": 148,
   "metadata": {},
   "outputs": [],
   "source": [
    "import pandas as pd\n",
    "import numpy as np\n",
    "import matplotlib.pyplot as plt\n",
    "from matplotlib.pyplot import figure\n",
    "from datetime import datetime\n",
    "from sklearn.model_selection import RandomizedSearchCV, train_test_split\n",
    "from sklearn.linear_model import LinearRegression\n",
    "from sklearn.svm import SVR\n",
    "from sklearn import metrics\n",
    "from sklearn.metrics import mean_absolute_error, mean_squared_error"
   ]
  },
  {
   "cell_type": "code",
   "execution_count": 2,
   "metadata": {},
   "outputs": [],
   "source": [
    "# City A\n",
    "density_A = pd.read_csv(\"/Users/vineethjason/Desktop/chinaCompetitionAI/train_data/city_A_new/density.csv\")\n",
    "grid_attr_A = pd.read_csv(\"/Users/vineethjason/Desktop/chinaCompetitionAI/train_data/city_A_new/grid_attr.csv\")\n",
    "infection_A = pd.read_csv(\"/Users/vineethjason/Desktop/chinaCompetitionAI/train_data/city_A_new/infection.csv\")\n",
    "migration_A = pd.read_csv(\"/Users/vineethjason/Desktop/chinaCompetitionAI/train_data/city_A_new/migration.csv\")\n",
    "transfer_A = pd.read_csv(\"/Users/vineethjason/Desktop/chinaCompetitionAI/train_data/city_A_new/transfer.csv\")\n",
    "weather_A = pd.read_csv(\"/Users/vineethjason/Desktop/chinaCompetitionAI/train_data/city_A_new/weather.csv\")"
   ]
  },
  {
   "cell_type": "code",
   "execution_count": 3,
   "metadata": {},
   "outputs": [],
   "source": [
    "# City B\n",
    "density_B = pd.read_csv(\"/Users/vineethjason/Desktop/chinaCompetitionAI/train_data/city_B_new/density.csv\")\n",
    "grid_attr_B = pd.read_csv(\"/Users/vineethjason/Desktop/chinaCompetitionAI/train_data/city_B_new/grid_attr.csv\")\n",
    "infection_B = pd.read_csv(\"/Users/vineethjason/Desktop/chinaCompetitionAI/train_data/city_B_new/infection.csv\")\n",
    "migration_B = pd.read_csv(\"/Users/vineethjason/Desktop/chinaCompetitionAI/train_data/city_B_new/migration.csv\")\n",
    "transfer_B = pd.read_csv(\"/Users/vineethjason/Desktop/chinaCompetitionAI/train_data/city_B_new/transfer.csv\")\n",
    "weather_B = pd.read_csv(\"/Users/vineethjason/Desktop/chinaCompetitionAI/train_data/city_B_new/weather.csv\")"
   ]
  },
  {
   "cell_type": "code",
   "execution_count": 4,
   "metadata": {},
   "outputs": [],
   "source": [
    "# City C\n",
    "density_C = pd.read_csv(\"/Users/vineethjason/Desktop/chinaCompetitionAI/train_data/city_C_new/density.csv\")\n",
    "grid_attr_C = pd.read_csv(\"/Users/vineethjason/Desktop/chinaCompetitionAI/train_data/city_C_new/grid_attr.csv\")\n",
    "infection_C = pd.read_csv(\"/Users/vineethjason/Desktop/chinaCompetitionAI/train_data/city_C_new/infection.csv\")\n",
    "migration_C = pd.read_csv(\"/Users/vineethjason/Desktop/chinaCompetitionAI/train_data/city_C_new/migration.csv\")\n",
    "transfer_C = pd.read_csv(\"/Users/vineethjason/Desktop/chinaCompetitionAI/train_data/city_C_new/transfer.csv\")\n",
    "weather_C = pd.read_csv(\"/Users/vineethjason/Desktop/chinaCompetitionAI/train_data/city_C_new/weather.csv\")"
   ]
  },
  {
   "cell_type": "code",
   "execution_count": 5,
   "metadata": {},
   "outputs": [],
   "source": [
    "# City D\n",
    "density_D = pd.read_csv(\"/Users/vineethjason/Desktop/chinaCompetitionAI/train_data/city_D_new/density.csv\")\n",
    "grid_attr_D = pd.read_csv(\"/Users/vineethjason/Desktop/chinaCompetitionAI/train_data/city_D_new/grid_attr.csv\")\n",
    "infection_D = pd.read_csv(\"/Users/vineethjason/Desktop/chinaCompetitionAI/train_data/city_D_new/infection.csv\")\n",
    "migration_D = pd.read_csv(\"/Users/vineethjason/Desktop/chinaCompetitionAI/train_data/city_D_new/migration.csv\")\n",
    "transfer_D = pd.read_csv(\"/Users/vineethjason/Desktop/chinaCompetitionAI/train_data/city_D_new/transfer.csv\")\n",
    "weather_D = pd.read_csv(\"/Users/vineethjason/Desktop/chinaCompetitionAI/train_data/city_D_new/weather.csv\")"
   ]
  },
  {
   "cell_type": "code",
   "execution_count": 6,
   "metadata": {},
   "outputs": [],
   "source": [
    "# City E\n",
    "density_E = pd.read_csv(\"/Users/vineethjason/Desktop/chinaCompetitionAI/train_data/city_E_new/density.csv\")\n",
    "grid_attr_E = pd.read_csv(\"/Users/vineethjason/Desktop/chinaCompetitionAI/train_data/city_E_new/grid_attr.csv\")\n",
    "infection_E = pd.read_csv(\"/Users/vineethjason/Desktop/chinaCompetitionAI/train_data/city_E_new/infection.csv\")\n",
    "migration_E = pd.read_csv(\"/Users/vineethjason/Desktop/chinaCompetitionAI/train_data/city_E_new/migration.csv\")\n",
    "transfer_E = pd.read_csv(\"/Users/vineethjason/Desktop/chinaCompetitionAI/train_data/city_E_new/transfer.csv\")\n",
    "weather_E = pd.read_csv(\"/Users/vineethjason/Desktop/chinaCompetitionAI/train_data/city_E_new/weather.csv\")"
   ]
  },
  {
   "cell_type": "code",
   "execution_count": 79,
   "metadata": {
    "scrolled": false
   },
   "outputs": [
    {
     "data": {
      "text/html": [
       "<div>\n",
       "<style scoped>\n",
       "    .dataframe tbody tr th:only-of-type {\n",
       "        vertical-align: middle;\n",
       "    }\n",
       "\n",
       "    .dataframe tbody tr th {\n",
       "        vertical-align: top;\n",
       "    }\n",
       "\n",
       "    .dataframe thead th {\n",
       "        text-align: right;\n",
       "    }\n",
       "</style>\n",
       "<table border=\"1\" class=\"dataframe\">\n",
       "  <thead>\n",
       "    <tr style=\"text-align: right;\">\n",
       "      <th></th>\n",
       "      <th>dateTimeTrue</th>\n",
       "      <th>hour</th>\n",
       "      <th>longitude</th>\n",
       "      <th>latitude</th>\n",
       "      <th>population_flow_index</th>\n",
       "    </tr>\n",
       "  </thead>\n",
       "  <tbody>\n",
       "    <tr>\n",
       "      <td>0</td>\n",
       "      <td>2020-05-06</td>\n",
       "      <td>0</td>\n",
       "      <td>145.408434</td>\n",
       "      <td>29.482458</td>\n",
       "      <td>0.2</td>\n",
       "    </tr>\n",
       "    <tr>\n",
       "      <td>1</td>\n",
       "      <td>2020-05-06</td>\n",
       "      <td>0</td>\n",
       "      <td>145.419205</td>\n",
       "      <td>29.474652</td>\n",
       "      <td>0.5</td>\n",
       "    </tr>\n",
       "    <tr>\n",
       "      <td>2</td>\n",
       "      <td>2020-05-06</td>\n",
       "      <td>0</td>\n",
       "      <td>145.420993</td>\n",
       "      <td>29.469928</td>\n",
       "      <td>0.1</td>\n",
       "    </tr>\n",
       "    <tr>\n",
       "      <td>3</td>\n",
       "      <td>2020-05-06</td>\n",
       "      <td>0</td>\n",
       "      <td>145.421002</td>\n",
       "      <td>29.474652</td>\n",
       "      <td>0.3</td>\n",
       "    </tr>\n",
       "    <tr>\n",
       "      <td>4</td>\n",
       "      <td>2020-05-06</td>\n",
       "      <td>0</td>\n",
       "      <td>145.429994</td>\n",
       "      <td>29.471445</td>\n",
       "      <td>0.1</td>\n",
       "    </tr>\n",
       "  </tbody>\n",
       "</table>\n",
       "</div>"
      ],
      "text/plain": [
       "  dateTimeTrue  hour   longitude   latitude  population_flow_index\n",
       "0   2020-05-06     0  145.408434  29.482458                    0.2\n",
       "1   2020-05-06     0  145.419205  29.474652                    0.5\n",
       "2   2020-05-06     0  145.420993  29.469928                    0.1\n",
       "3   2020-05-06     0  145.421002  29.474652                    0.3\n",
       "4   2020-05-06     0  145.429994  29.471445                    0.1"
      ]
     },
     "execution_count": 79,
     "metadata": {},
     "output_type": "execute_result"
    }
   ],
   "source": [
    "density_A.head()\n",
    "#len(density_A[density_A.hour ==0])"
   ]
  },
  {
   "cell_type": "code",
   "execution_count": 71,
   "metadata": {},
   "outputs": [
    {
     "data": {
      "text/html": [
       "<div>\n",
       "<style scoped>\n",
       "    .dataframe tbody tr th:only-of-type {\n",
       "        vertical-align: middle;\n",
       "    }\n",
       "\n",
       "    .dataframe tbody tr th {\n",
       "        vertical-align: top;\n",
       "    }\n",
       "\n",
       "    .dataframe thead th {\n",
       "        text-align: right;\n",
       "    }\n",
       "</style>\n",
       "<table border=\"1\" class=\"dataframe\">\n",
       "  <thead>\n",
       "    <tr style=\"text-align: right;\">\n",
       "      <th></th>\n",
       "      <th>grid_x</th>\n",
       "      <th>grid_y</th>\n",
       "      <th>region_id</th>\n",
       "    </tr>\n",
       "  </thead>\n",
       "  <tbody>\n",
       "    <tr>\n",
       "      <td>11794</td>\n",
       "      <td>147.438632</td>\n",
       "      <td>30.305743</td>\n",
       "      <td>117</td>\n",
       "    </tr>\n",
       "    <tr>\n",
       "      <td>11795</td>\n",
       "      <td>147.438632</td>\n",
       "      <td>30.307302</td>\n",
       "      <td>117</td>\n",
       "    </tr>\n",
       "    <tr>\n",
       "      <td>11796</td>\n",
       "      <td>147.438632</td>\n",
       "      <td>30.308861</td>\n",
       "      <td>117</td>\n",
       "    </tr>\n",
       "    <tr>\n",
       "      <td>11797</td>\n",
       "      <td>147.438632</td>\n",
       "      <td>30.310428</td>\n",
       "      <td>117</td>\n",
       "    </tr>\n",
       "    <tr>\n",
       "      <td>11798</td>\n",
       "      <td>147.438632</td>\n",
       "      <td>30.311987</td>\n",
       "      <td>117</td>\n",
       "    </tr>\n",
       "  </tbody>\n",
       "</table>\n",
       "</div>"
      ],
      "text/plain": [
       "           grid_x     grid_y  region_id\n",
       "11794  147.438632  30.305743        117\n",
       "11795  147.438632  30.307302        117\n",
       "11796  147.438632  30.308861        117\n",
       "11797  147.438632  30.310428        117\n",
       "11798  147.438632  30.311987        117"
      ]
     },
     "execution_count": 71,
     "metadata": {},
     "output_type": "execute_result"
    }
   ],
   "source": [
    "grid_attr_A.tail()\n",
    "#grid_attr_A.groupby('region_id').agg(['count', 'size', 'nunique'])"
   ]
  },
  {
   "cell_type": "code",
   "execution_count": 77,
   "metadata": {},
   "outputs": [
    {
     "name": "stdout",
     "output_type": "stream",
     "text": [
      "  city_id  region_id dateTimeTrue  number_of_newly_infected_persons\n",
      "0       A          0   2020-05-02                                 0\n",
      "1       A          0   2020-05-03                                 0\n",
      "2       A          0   2020-05-04                                 0\n",
      "3       A          0   2020-05-05                                 0\n",
      "4       A          0   2020-05-06                                 0\n"
     ]
    },
    {
     "data": {
      "text/plain": [
       "44"
      ]
     },
     "execution_count": 77,
     "metadata": {},
     "output_type": "execute_result"
    }
   ],
   "source": [
    "print(infection_A.head())\n",
    "len(infection_A[(infection_A.region_id == 1)])"
   ]
  },
  {
   "cell_type": "code",
   "execution_count": 12,
   "metadata": {},
   "outputs": [
    {
     "data": {
      "text/html": [
       "<div>\n",
       "<style scoped>\n",
       "    .dataframe tbody tr th:only-of-type {\n",
       "        vertical-align: middle;\n",
       "    }\n",
       "\n",
       "    .dataframe tbody tr th {\n",
       "        vertical-align: top;\n",
       "    }\n",
       "\n",
       "    .dataframe thead th {\n",
       "        text-align: right;\n",
       "    }\n",
       "</style>\n",
       "<table border=\"1\" class=\"dataframe\">\n",
       "  <thead>\n",
       "    <tr style=\"text-align: right;\">\n",
       "      <th></th>\n",
       "      <th>migrationDateTimeTrue</th>\n",
       "      <th>migration_departure_city</th>\n",
       "      <th>migration_arrival_city</th>\n",
       "      <th>migration_scale_index</th>\n",
       "    </tr>\n",
       "  </thead>\n",
       "  <tbody>\n",
       "    <tr>\n",
       "      <td>0</td>\n",
       "      <td>2020-05-01</td>\n",
       "      <td>A</td>\n",
       "      <td>C</td>\n",
       "      <td>0.119750</td>\n",
       "    </tr>\n",
       "    <tr>\n",
       "      <td>1</td>\n",
       "      <td>2020-05-01</td>\n",
       "      <td>A</td>\n",
       "      <td>D</td>\n",
       "      <td>0.249966</td>\n",
       "    </tr>\n",
       "    <tr>\n",
       "      <td>2</td>\n",
       "      <td>2020-05-01</td>\n",
       "      <td>A</td>\n",
       "      <td>E</td>\n",
       "      <td>0.059551</td>\n",
       "    </tr>\n",
       "    <tr>\n",
       "      <td>3</td>\n",
       "      <td>2020-05-01</td>\n",
       "      <td>B</td>\n",
       "      <td>A</td>\n",
       "      <td>0.331290</td>\n",
       "    </tr>\n",
       "    <tr>\n",
       "      <td>4</td>\n",
       "      <td>2020-05-01</td>\n",
       "      <td>C</td>\n",
       "      <td>A</td>\n",
       "      <td>0.117547</td>\n",
       "    </tr>\n",
       "  </tbody>\n",
       "</table>\n",
       "</div>"
      ],
      "text/plain": [
       "  migrationDateTimeTrue migration_departure_city migration_arrival_city  \\\n",
       "0            2020-05-01                        A                      C   \n",
       "1            2020-05-01                        A                      D   \n",
       "2            2020-05-01                        A                      E   \n",
       "3            2020-05-01                        B                      A   \n",
       "4            2020-05-01                        C                      A   \n",
       "\n",
       "   migration_scale_index  \n",
       "0               0.119750  \n",
       "1               0.249966  \n",
       "2               0.059551  \n",
       "3               0.331290  \n",
       "4               0.117547  "
      ]
     },
     "execution_count": 12,
     "metadata": {},
     "output_type": "execute_result"
    }
   ],
   "source": [
    "migration_A.head()"
   ]
  },
  {
   "cell_type": "code",
   "execution_count": 15,
   "metadata": {},
   "outputs": [
    {
     "data": {
      "text/html": [
       "<div>\n",
       "<style scoped>\n",
       "    .dataframe tbody tr th:only-of-type {\n",
       "        vertical-align: middle;\n",
       "    }\n",
       "\n",
       "    .dataframe tbody tr th {\n",
       "        vertical-align: top;\n",
       "    }\n",
       "\n",
       "    .dataframe thead th {\n",
       "        text-align: right;\n",
       "    }\n",
       "</style>\n",
       "<table border=\"1\" class=\"dataframe\">\n",
       "  <thead>\n",
       "    <tr style=\"text-align: right;\">\n",
       "      <th></th>\n",
       "      <th>hour</th>\n",
       "      <th>longitude_of_departure</th>\n",
       "      <th>latitude_departure</th>\n",
       "      <th>longitude_arrival</th>\n",
       "      <th>latitude_arrival</th>\n",
       "      <th>transfer_intensity</th>\n",
       "    </tr>\n",
       "  </thead>\n",
       "  <tbody>\n",
       "    <tr>\n",
       "      <td>0</td>\n",
       "      <td>0</td>\n",
       "      <td>145.453431</td>\n",
       "      <td>29.461634</td>\n",
       "      <td>145.457060</td>\n",
       "      <td>29.477293</td>\n",
       "      <td>0.3</td>\n",
       "    </tr>\n",
       "    <tr>\n",
       "      <td>1</td>\n",
       "      <td>0</td>\n",
       "      <td>145.457060</td>\n",
       "      <td>29.477293</td>\n",
       "      <td>145.453431</td>\n",
       "      <td>29.461634</td>\n",
       "      <td>0.4</td>\n",
       "    </tr>\n",
       "    <tr>\n",
       "      <td>2</td>\n",
       "      <td>0</td>\n",
       "      <td>145.458856</td>\n",
       "      <td>29.467829</td>\n",
       "      <td>145.469663</td>\n",
       "      <td>29.464551</td>\n",
       "      <td>0.1</td>\n",
       "    </tr>\n",
       "    <tr>\n",
       "      <td>3</td>\n",
       "      <td>0</td>\n",
       "      <td>145.534152</td>\n",
       "      <td>29.432179</td>\n",
       "      <td>145.539542</td>\n",
       "      <td>29.424323</td>\n",
       "      <td>0.1</td>\n",
       "    </tr>\n",
       "    <tr>\n",
       "      <td>4</td>\n",
       "      <td>0</td>\n",
       "      <td>145.541348</td>\n",
       "      <td>29.416458</td>\n",
       "      <td>145.550340</td>\n",
       "      <td>29.421114</td>\n",
       "      <td>0.1</td>\n",
       "    </tr>\n",
       "  </tbody>\n",
       "</table>\n",
       "</div>"
      ],
      "text/plain": [
       "   hour  longitude_of_departure  latitude_departure  longitude_arrival  \\\n",
       "0     0              145.453431           29.461634         145.457060   \n",
       "1     0              145.457060           29.477293         145.453431   \n",
       "2     0              145.458856           29.467829         145.469663   \n",
       "3     0              145.534152           29.432179         145.539542   \n",
       "4     0              145.541348           29.416458         145.550340   \n",
       "\n",
       "   latitude_arrival  transfer_intensity  \n",
       "0         29.477293                 0.3  \n",
       "1         29.461634                 0.4  \n",
       "2         29.464551                 0.1  \n",
       "3         29.424323                 0.1  \n",
       "4         29.421114                 0.1  "
      ]
     },
     "execution_count": 15,
     "metadata": {},
     "output_type": "execute_result"
    }
   ],
   "source": [
    "transfer_A.head()"
   ]
  },
  {
   "cell_type": "code",
   "execution_count": 16,
   "metadata": {},
   "outputs": [
    {
     "data": {
      "text/html": [
       "<div>\n",
       "<style scoped>\n",
       "    .dataframe tbody tr th:only-of-type {\n",
       "        vertical-align: middle;\n",
       "    }\n",
       "\n",
       "    .dataframe tbody tr th {\n",
       "        vertical-align: top;\n",
       "    }\n",
       "\n",
       "    .dataframe thead th {\n",
       "        text-align: right;\n",
       "    }\n",
       "</style>\n",
       "<table border=\"1\" class=\"dataframe\">\n",
       "  <thead>\n",
       "    <tr style=\"text-align: right;\">\n",
       "      <th></th>\n",
       "      <th>dateTimeTrue</th>\n",
       "      <th>hour</th>\n",
       "      <th>temperature</th>\n",
       "      <th>humidity</th>\n",
       "      <th>wind_direction</th>\n",
       "      <th>wind_speed</th>\n",
       "      <th>wind_force</th>\n",
       "      <th>weather</th>\n",
       "    </tr>\n",
       "  </thead>\n",
       "  <tbody>\n",
       "    <tr>\n",
       "      <td>0</td>\n",
       "      <td>2020-05-01</td>\n",
       "      <td>1</td>\n",
       "      <td>15</td>\n",
       "      <td>81%</td>\n",
       "      <td>East</td>\n",
       "      <td>&lt;12km/h</td>\n",
       "      <td>1</td>\n",
       "      <td>Sunny</td>\n",
       "    </tr>\n",
       "    <tr>\n",
       "      <td>1</td>\n",
       "      <td>2020-05-01</td>\n",
       "      <td>2</td>\n",
       "      <td>14</td>\n",
       "      <td>99%</td>\n",
       "      <td>North</td>\n",
       "      <td>&lt;12km/h</td>\n",
       "      <td>3</td>\n",
       "      <td>Cloudy</td>\n",
       "    </tr>\n",
       "    <tr>\n",
       "      <td>2</td>\n",
       "      <td>2020-05-01</td>\n",
       "      <td>3</td>\n",
       "      <td>14</td>\n",
       "      <td>99%</td>\n",
       "      <td>North</td>\n",
       "      <td>&lt;12km/h</td>\n",
       "      <td>1</td>\n",
       "      <td>Cloudy</td>\n",
       "    </tr>\n",
       "    <tr>\n",
       "      <td>3</td>\n",
       "      <td>2020-05-01</td>\n",
       "      <td>4</td>\n",
       "      <td>14</td>\n",
       "      <td>96%</td>\n",
       "      <td>Quiet</td>\n",
       "      <td>NaN</td>\n",
       "      <td>0</td>\n",
       "      <td>Sunny</td>\n",
       "    </tr>\n",
       "    <tr>\n",
       "      <td>4</td>\n",
       "      <td>2020-05-01</td>\n",
       "      <td>5</td>\n",
       "      <td>14</td>\n",
       "      <td>100%</td>\n",
       "      <td>North</td>\n",
       "      <td>&lt;12km/h</td>\n",
       "      <td>1</td>\n",
       "      <td>Sunny</td>\n",
       "    </tr>\n",
       "  </tbody>\n",
       "</table>\n",
       "</div>"
      ],
      "text/plain": [
       "  dateTimeTrue  hour  temperature humidity wind_direction wind_speed  \\\n",
       "0   2020-05-01     1           15      81%           East    <12km/h   \n",
       "1   2020-05-01     2           14      99%          North    <12km/h   \n",
       "2   2020-05-01     3           14      99%          North    <12km/h   \n",
       "3   2020-05-01     4           14      96%          Quiet        NaN   \n",
       "4   2020-05-01     5           14     100%          North    <12km/h   \n",
       "\n",
       "  wind_force weather  \n",
       "0          1   Sunny  \n",
       "1          3  Cloudy  \n",
       "2          1  Cloudy  \n",
       "3          0   Sunny  \n",
       "4          1   Sunny  "
      ]
     },
     "execution_count": 16,
     "metadata": {},
     "output_type": "execute_result"
    }
   ],
   "source": [
    "weather_A.head()"
   ]
  },
  {
   "cell_type": "code",
   "execution_count": 17,
   "metadata": {},
   "outputs": [
    {
     "name": "stdout",
     "output_type": "stream",
     "text": [
      "(35906204, 5)\n",
      "(11799, 3)\n",
      "(5309, 4)\n",
      "(359, 4)\n",
      "(5670547, 6)\n",
      "(1079, 8)\n"
     ]
    }
   ],
   "source": [
    "print(density_A.shape)\n",
    "print(grid_attr_A.shape)\n",
    "print(infection_A.shape)\n",
    "print(migration_A.shape)\n",
    "print(transfer_A.shape)\n",
    "print(weather_A.shape)"
   ]
  },
  {
   "cell_type": "code",
   "execution_count": 75,
   "metadata": {},
   "outputs": [
    {
     "data": {
      "text/plain": [
       "<matplotlib.collections.PathCollection at 0x1a1e6c8650>"
      ]
     },
     "execution_count": 75,
     "metadata": {},
     "output_type": "execute_result"
    },
    {
     "data": {
      "image/png": "[encoded data removed]",
      "text/plain": [
       "<Figure size 432x288 with 1 Axes>"
      ]
     },
     "metadata": {
      "needs_background": "light"
     },
     "output_type": "display_data"
    }
   ],
   "source": [
    "abc = grid_attr_A[(grid_attr_A.region_id >= 10) & (grid_attr_A.region_id <= 20)]\n",
    "abc\n",
    "plt.scatter(x=abc.grid_x, y=abc.grid_y, marker=\".\")"
   ]
  },
  {
   "cell_type": "code",
   "execution_count": 70,
   "metadata": {},
   "outputs": [
    {
     "data": {
      "text/plain": [
       "<matplotlib.collections.PathCollection at 0x1a1e585650>"
      ]
     },
     "execution_count": 70,
     "metadata": {},
     "output_type": "execute_result"
    },
    {
     "data": {
      "image/png": "[encoded data removed]",
      "text/plain": [
       "<Figure size 432x288 with 1 Axes>"
      ]
     },
     "metadata": {
      "needs_background": "light"
     },
     "output_type": "display_data"
    }
   ],
   "source": [
    "plt.scatter(x=grid_attr_A[\"grid_x\"], y=grid_attr_A[\"grid_y\"], marker=\".\", s=1, c=grid_attr_A[\"region_id\"])"
   ]
  },
  {
   "cell_type": "code",
   "execution_count": 80,
   "metadata": {},
   "outputs": [
    {
     "data": {
      "text/html": [
       "<div>\n",
       "<style scoped>\n",
       "    .dataframe tbody tr th:only-of-type {\n",
       "        vertical-align: middle;\n",
       "    }\n",
       "\n",
       "    .dataframe tbody tr th {\n",
       "        vertical-align: top;\n",
       "    }\n",
       "\n",
       "    .dataframe thead th {\n",
       "        text-align: right;\n",
       "    }\n",
       "</style>\n",
       "<table border=\"1\" class=\"dataframe\">\n",
       "  <thead>\n",
       "    <tr style=\"text-align: right;\">\n",
       "      <th></th>\n",
       "      <th>dateTimeTrue</th>\n",
       "      <th>hour</th>\n",
       "      <th>longitude</th>\n",
       "      <th>latitude</th>\n",
       "      <th>population_flow_index</th>\n",
       "    </tr>\n",
       "  </thead>\n",
       "  <tbody>\n",
       "    <tr>\n",
       "      <td>0</td>\n",
       "      <td>2020-05-06</td>\n",
       "      <td>0</td>\n",
       "      <td>145.408434</td>\n",
       "      <td>29.482458</td>\n",
       "      <td>0.2</td>\n",
       "    </tr>\n",
       "    <tr>\n",
       "      <td>1</td>\n",
       "      <td>2020-05-06</td>\n",
       "      <td>0</td>\n",
       "      <td>145.419205</td>\n",
       "      <td>29.474652</td>\n",
       "      <td>0.5</td>\n",
       "    </tr>\n",
       "    <tr>\n",
       "      <td>2</td>\n",
       "      <td>2020-05-06</td>\n",
       "      <td>0</td>\n",
       "      <td>145.420993</td>\n",
       "      <td>29.469928</td>\n",
       "      <td>0.1</td>\n",
       "    </tr>\n",
       "    <tr>\n",
       "      <td>3</td>\n",
       "      <td>2020-05-06</td>\n",
       "      <td>0</td>\n",
       "      <td>145.421002</td>\n",
       "      <td>29.474652</td>\n",
       "      <td>0.3</td>\n",
       "    </tr>\n",
       "    <tr>\n",
       "      <td>4</td>\n",
       "      <td>2020-05-06</td>\n",
       "      <td>0</td>\n",
       "      <td>145.429994</td>\n",
       "      <td>29.471445</td>\n",
       "      <td>0.1</td>\n",
       "    </tr>\n",
       "    <tr>\n",
       "      <td>...</td>\n",
       "      <td>...</td>\n",
       "      <td>...</td>\n",
       "      <td>...</td>\n",
       "      <td>...</td>\n",
       "      <td>...</td>\n",
       "    </tr>\n",
       "    <tr>\n",
       "      <td>33072978</td>\n",
       "      <td>2020-06-13</td>\n",
       "      <td>0</td>\n",
       "      <td>147.731506</td>\n",
       "      <td>30.264975</td>\n",
       "      <td>0.3</td>\n",
       "    </tr>\n",
       "    <tr>\n",
       "      <td>33072979</td>\n",
       "      <td>2020-06-13</td>\n",
       "      <td>0</td>\n",
       "      <td>147.731506</td>\n",
       "      <td>30.266535</td>\n",
       "      <td>0.1</td>\n",
       "    </tr>\n",
       "    <tr>\n",
       "      <td>33072980</td>\n",
       "      <td>2020-06-13</td>\n",
       "      <td>0</td>\n",
       "      <td>147.731506</td>\n",
       "      <td>30.269654</td>\n",
       "      <td>0.3</td>\n",
       "    </tr>\n",
       "    <tr>\n",
       "      <td>33072981</td>\n",
       "      <td>2020-06-13</td>\n",
       "      <td>0</td>\n",
       "      <td>147.731506</td>\n",
       "      <td>30.271214</td>\n",
       "      <td>0.1</td>\n",
       "    </tr>\n",
       "    <tr>\n",
       "      <td>33072982</td>\n",
       "      <td>2020-06-13</td>\n",
       "      <td>0</td>\n",
       "      <td>147.733312</td>\n",
       "      <td>30.261825</td>\n",
       "      <td>0.2</td>\n",
       "    </tr>\n",
       "  </tbody>\n",
       "</table>\n",
       "<p>1286869 rows × 5 columns</p>\n",
       "</div>"
      ],
      "text/plain": [
       "         dateTimeTrue  hour   longitude   latitude  population_flow_index\n",
       "0          2020-05-06     0  145.408434  29.482458                    0.2\n",
       "1          2020-05-06     0  145.419205  29.474652                    0.5\n",
       "2          2020-05-06     0  145.420993  29.469928                    0.1\n",
       "3          2020-05-06     0  145.421002  29.474652                    0.3\n",
       "4          2020-05-06     0  145.429994  29.471445                    0.1\n",
       "...               ...   ...         ...        ...                    ...\n",
       "33072978   2020-06-13     0  147.731506  30.264975                    0.3\n",
       "33072979   2020-06-13     0  147.731506  30.266535                    0.1\n",
       "33072980   2020-06-13     0  147.731506  30.269654                    0.3\n",
       "33072981   2020-06-13     0  147.731506  30.271214                    0.1\n",
       "33072982   2020-06-13     0  147.733312  30.261825                    0.2\n",
       "\n",
       "[1286869 rows x 5 columns]"
      ]
     },
     "execution_count": 80,
     "metadata": {},
     "output_type": "execute_result"
    }
   ],
   "source": [
    "density_A[density_A.hour ==0]"
   ]
  },
  {
   "cell_type": "code",
   "execution_count": 91,
   "metadata": {},
   "outputs": [
    {
     "name": "stdout",
     "output_type": "stream",
     "text": [
      "146.757698\n",
      "30.244955\n"
     ]
    }
   ],
   "source": [
    "region_0 = grid_attr_A[grid_attr_A.region_id == 0]\n",
    "grid_long = region_0['grid_x'].to_list()\n",
    "print(grid_long[5])\n",
    "\n",
    "grid_lat = region_0['grid_y'].to_list()\n",
    "print(grid_lat[5])"
   ]
  },
  {
   "cell_type": "code",
   "execution_count": 99,
   "metadata": {},
   "outputs": [
    {
     "name": "stdout",
     "output_type": "stream",
     "text": [
      "     dateTimeTrue  hour   longitude   latitude  population_flow_index\n",
      "5315   2020-05-06     0  146.105591  30.246250                    0.2\n",
      "7100   2020-05-06     0  146.170269  30.238489                    0.1\n",
      "7101   2020-05-06     0  146.170269  30.240049                    0.2\n",
      "9015   2020-05-06     0  146.240274  30.240275                    0.1\n",
      "9016   2020-05-06     0  146.240274  30.241835                    0.1\n"
     ]
    },
    {
     "data": {
      "image/png": "[encoded data removed]",
      "text/plain": [
       "<Figure size 1008x288 with 1 Axes>"
      ]
     },
     "metadata": {
      "needs_background": "light"
     },
     "output_type": "display_data"
    }
   ],
   "source": [
    "out = density_A[density_A['latitude'].isin(grid_lat)]\n",
    "# isin() - (https://pandas.pydata.org/pandas-docs/stable/reference/api/pandas.Series.isin.html)\n",
    "print(out.head())\n",
    "plt.scatter(x=out.longitude, y=out.latitude, marker=\".\")\n",
    "plt.gcf().set_size_inches(14,4)"
   ]
  },
  {
   "cell_type": "code",
   "execution_count": 100,
   "metadata": {},
   "outputs": [],
   "source": [
    "#out.to_csv(\"/Users/vineethjason/Desktop/chinaCompetitionAI/temp_lat.csv\", index=False)"
   ]
  },
  {
   "cell_type": "code",
   "execution_count": 138,
   "metadata": {
    "scrolled": false
   },
   "outputs": [
    {
     "name": "stderr",
     "output_type": "stream",
     "text": [
      "/opt/anaconda3/lib/python3.7/site-packages/ipykernel_launcher.py:5: SettingWithCopyWarning: \n",
      "A value is trying to be set on a copy of a slice from a DataFrame.\n",
      "Try using .loc[row_indexer,col_indexer] = value instead\n",
      "\n",
      "See the caveats in the documentation: http://pandas.pydata.org/pandas-docs/stable/user_guide/indexing.html#returning-a-view-versus-a-copy\n",
      "  \"\"\"\n"
     ]
    },
    {
     "data": {
      "text/html": [
       "<div>\n",
       "<style scoped>\n",
       "    .dataframe tbody tr th:only-of-type {\n",
       "        vertical-align: middle;\n",
       "    }\n",
       "\n",
       "    .dataframe tbody tr th {\n",
       "        vertical-align: top;\n",
       "    }\n",
       "\n",
       "    .dataframe thead th {\n",
       "        text-align: right;\n",
       "    }\n",
       "</style>\n",
       "<table border=\"1\" class=\"dataframe\">\n",
       "  <thead>\n",
       "    <tr style=\"text-align: right;\">\n",
       "      <th></th>\n",
       "      <th>dateTimeTrue</th>\n",
       "      <th>number_of_newly_infected_persons</th>\n",
       "      <th>timeseries</th>\n",
       "    </tr>\n",
       "  </thead>\n",
       "  <tbody>\n",
       "    <tr>\n",
       "      <td>44</td>\n",
       "      <td>2020-05-01</td>\n",
       "      <td>0</td>\n",
       "      <td>0</td>\n",
       "    </tr>\n",
       "    <tr>\n",
       "      <td>45</td>\n",
       "      <td>2020-05-02</td>\n",
       "      <td>0</td>\n",
       "      <td>0</td>\n",
       "    </tr>\n",
       "    <tr>\n",
       "      <td>46</td>\n",
       "      <td>2020-05-03</td>\n",
       "      <td>0</td>\n",
       "      <td>0</td>\n",
       "    </tr>\n",
       "    <tr>\n",
       "      <td>47</td>\n",
       "      <td>2020-05-04</td>\n",
       "      <td>0</td>\n",
       "      <td>0</td>\n",
       "    </tr>\n",
       "    <tr>\n",
       "      <td>48</td>\n",
       "      <td>2020-05-05</td>\n",
       "      <td>0</td>\n",
       "      <td>0</td>\n",
       "    </tr>\n",
       "    <tr>\n",
       "      <td>49</td>\n",
       "      <td>2020-05-06</td>\n",
       "      <td>0</td>\n",
       "      <td>0</td>\n",
       "    </tr>\n",
       "    <tr>\n",
       "      <td>50</td>\n",
       "      <td>2020-05-07</td>\n",
       "      <td>0</td>\n",
       "      <td>0</td>\n",
       "    </tr>\n",
       "    <tr>\n",
       "      <td>51</td>\n",
       "      <td>2020-05-08</td>\n",
       "      <td>0</td>\n",
       "      <td>0</td>\n",
       "    </tr>\n",
       "    <tr>\n",
       "      <td>52</td>\n",
       "      <td>2020-05-09</td>\n",
       "      <td>0</td>\n",
       "      <td>0</td>\n",
       "    </tr>\n",
       "    <tr>\n",
       "      <td>53</td>\n",
       "      <td>2020-05-10</td>\n",
       "      <td>0</td>\n",
       "      <td>0</td>\n",
       "    </tr>\n",
       "    <tr>\n",
       "      <td>54</td>\n",
       "      <td>2020-05-11</td>\n",
       "      <td>0</td>\n",
       "      <td>0</td>\n",
       "    </tr>\n",
       "    <tr>\n",
       "      <td>55</td>\n",
       "      <td>2020-05-12</td>\n",
       "      <td>0</td>\n",
       "      <td>0</td>\n",
       "    </tr>\n",
       "    <tr>\n",
       "      <td>56</td>\n",
       "      <td>2020-05-13</td>\n",
       "      <td>0</td>\n",
       "      <td>0</td>\n",
       "    </tr>\n",
       "    <tr>\n",
       "      <td>57</td>\n",
       "      <td>2020-05-14</td>\n",
       "      <td>0</td>\n",
       "      <td>0</td>\n",
       "    </tr>\n",
       "    <tr>\n",
       "      <td>58</td>\n",
       "      <td>2020-05-15</td>\n",
       "      <td>0</td>\n",
       "      <td>0</td>\n",
       "    </tr>\n",
       "    <tr>\n",
       "      <td>59</td>\n",
       "      <td>2020-05-16</td>\n",
       "      <td>0</td>\n",
       "      <td>0</td>\n",
       "    </tr>\n",
       "    <tr>\n",
       "      <td>60</td>\n",
       "      <td>2020-05-17</td>\n",
       "      <td>0</td>\n",
       "      <td>0</td>\n",
       "    </tr>\n",
       "    <tr>\n",
       "      <td>61</td>\n",
       "      <td>2020-05-18</td>\n",
       "      <td>0</td>\n",
       "      <td>0</td>\n",
       "    </tr>\n",
       "    <tr>\n",
       "      <td>62</td>\n",
       "      <td>2020-05-19</td>\n",
       "      <td>0</td>\n",
       "      <td>0</td>\n",
       "    </tr>\n",
       "    <tr>\n",
       "      <td>63</td>\n",
       "      <td>2020-05-20</td>\n",
       "      <td>0</td>\n",
       "      <td>0</td>\n",
       "    </tr>\n",
       "    <tr>\n",
       "      <td>64</td>\n",
       "      <td>2020-05-21</td>\n",
       "      <td>1</td>\n",
       "      <td>1</td>\n",
       "    </tr>\n",
       "    <tr>\n",
       "      <td>65</td>\n",
       "      <td>2020-05-22</td>\n",
       "      <td>1</td>\n",
       "      <td>2</td>\n",
       "    </tr>\n",
       "    <tr>\n",
       "      <td>66</td>\n",
       "      <td>2020-05-23</td>\n",
       "      <td>2</td>\n",
       "      <td>4</td>\n",
       "    </tr>\n",
       "    <tr>\n",
       "      <td>67</td>\n",
       "      <td>2020-05-24</td>\n",
       "      <td>5</td>\n",
       "      <td>9</td>\n",
       "    </tr>\n",
       "    <tr>\n",
       "      <td>68</td>\n",
       "      <td>2020-05-25</td>\n",
       "      <td>9</td>\n",
       "      <td>18</td>\n",
       "    </tr>\n",
       "    <tr>\n",
       "      <td>69</td>\n",
       "      <td>2020-05-26</td>\n",
       "      <td>28</td>\n",
       "      <td>46</td>\n",
       "    </tr>\n",
       "    <tr>\n",
       "      <td>70</td>\n",
       "      <td>2020-05-27</td>\n",
       "      <td>62</td>\n",
       "      <td>108</td>\n",
       "    </tr>\n",
       "    <tr>\n",
       "      <td>71</td>\n",
       "      <td>2020-05-28</td>\n",
       "      <td>103</td>\n",
       "      <td>211</td>\n",
       "    </tr>\n",
       "    <tr>\n",
       "      <td>72</td>\n",
       "      <td>2020-05-29</td>\n",
       "      <td>128</td>\n",
       "      <td>339</td>\n",
       "    </tr>\n",
       "    <tr>\n",
       "      <td>73</td>\n",
       "      <td>2020-05-30</td>\n",
       "      <td>259</td>\n",
       "      <td>598</td>\n",
       "    </tr>\n",
       "    <tr>\n",
       "      <td>74</td>\n",
       "      <td>2020-05-31</td>\n",
       "      <td>311</td>\n",
       "      <td>909</td>\n",
       "    </tr>\n",
       "    <tr>\n",
       "      <td>75</td>\n",
       "      <td>2020-06-01</td>\n",
       "      <td>541</td>\n",
       "      <td>1450</td>\n",
       "    </tr>\n",
       "    <tr>\n",
       "      <td>76</td>\n",
       "      <td>2020-06-02</td>\n",
       "      <td>823</td>\n",
       "      <td>2273</td>\n",
       "    </tr>\n",
       "    <tr>\n",
       "      <td>77</td>\n",
       "      <td>2020-06-03</td>\n",
       "      <td>449</td>\n",
       "      <td>2722</td>\n",
       "    </tr>\n",
       "    <tr>\n",
       "      <td>78</td>\n",
       "      <td>2020-06-04</td>\n",
       "      <td>525</td>\n",
       "      <td>3247</td>\n",
       "    </tr>\n",
       "    <tr>\n",
       "      <td>79</td>\n",
       "      <td>2020-06-05</td>\n",
       "      <td>228</td>\n",
       "      <td>3475</td>\n",
       "    </tr>\n",
       "    <tr>\n",
       "      <td>80</td>\n",
       "      <td>2020-06-06</td>\n",
       "      <td>184</td>\n",
       "      <td>3659</td>\n",
       "    </tr>\n",
       "    <tr>\n",
       "      <td>81</td>\n",
       "      <td>2020-06-07</td>\n",
       "      <td>229</td>\n",
       "      <td>3888</td>\n",
       "    </tr>\n",
       "    <tr>\n",
       "      <td>82</td>\n",
       "      <td>2020-06-08</td>\n",
       "      <td>152</td>\n",
       "      <td>4040</td>\n",
       "    </tr>\n",
       "    <tr>\n",
       "      <td>83</td>\n",
       "      <td>2020-06-09</td>\n",
       "      <td>136</td>\n",
       "      <td>4176</td>\n",
       "    </tr>\n",
       "    <tr>\n",
       "      <td>84</td>\n",
       "      <td>2020-06-10</td>\n",
       "      <td>96</td>\n",
       "      <td>4272</td>\n",
       "    </tr>\n",
       "    <tr>\n",
       "      <td>85</td>\n",
       "      <td>2020-06-11</td>\n",
       "      <td>107</td>\n",
       "      <td>4379</td>\n",
       "    </tr>\n",
       "    <tr>\n",
       "      <td>86</td>\n",
       "      <td>2020-06-12</td>\n",
       "      <td>68</td>\n",
       "      <td>4447</td>\n",
       "    </tr>\n",
       "    <tr>\n",
       "      <td>87</td>\n",
       "      <td>2020-06-13</td>\n",
       "      <td>104</td>\n",
       "      <td>4551</td>\n",
       "    </tr>\n",
       "    <tr>\n",
       "      <td>88</td>\n",
       "      <td>2020-06-14</td>\n",
       "      <td>96</td>\n",
       "      <td>4647</td>\n",
       "    </tr>\n",
       "  </tbody>\n",
       "</table>\n",
       "</div>"
      ],
      "text/plain": [
       "   dateTimeTrue  number_of_newly_infected_persons  timeseries\n",
       "44   2020-05-01                                 0           0\n",
       "45   2020-05-02                                 0           0\n",
       "46   2020-05-03                                 0           0\n",
       "47   2020-05-04                                 0           0\n",
       "48   2020-05-05                                 0           0\n",
       "49   2020-05-06                                 0           0\n",
       "50   2020-05-07                                 0           0\n",
       "51   2020-05-08                                 0           0\n",
       "52   2020-05-09                                 0           0\n",
       "53   2020-05-10                                 0           0\n",
       "54   2020-05-11                                 0           0\n",
       "55   2020-05-12                                 0           0\n",
       "56   2020-05-13                                 0           0\n",
       "57   2020-05-14                                 0           0\n",
       "58   2020-05-15                                 0           0\n",
       "59   2020-05-16                                 0           0\n",
       "60   2020-05-17                                 0           0\n",
       "61   2020-05-18                                 0           0\n",
       "62   2020-05-19                                 0           0\n",
       "63   2020-05-20                                 0           0\n",
       "64   2020-05-21                                 1           1\n",
       "65   2020-05-22                                 1           2\n",
       "66   2020-05-23                                 2           4\n",
       "67   2020-05-24                                 5           9\n",
       "68   2020-05-25                                 9          18\n",
       "69   2020-05-26                                28          46\n",
       "70   2020-05-27                                62         108\n",
       "71   2020-05-28                               103         211\n",
       "72   2020-05-29                               128         339\n",
       "73   2020-05-30                               259         598\n",
       "74   2020-05-31                               311         909\n",
       "75   2020-06-01                               541        1450\n",
       "76   2020-06-02                               823        2273\n",
       "77   2020-06-03                               449        2722\n",
       "78   2020-06-04                               525        3247\n",
       "79   2020-06-05                               228        3475\n",
       "80   2020-06-06                               184        3659\n",
       "81   2020-06-07                               229        3888\n",
       "82   2020-06-08                               152        4040\n",
       "83   2020-06-09                               136        4176\n",
       "84   2020-06-10                                96        4272\n",
       "85   2020-06-11                               107        4379\n",
       "86   2020-06-12                                68        4447\n",
       "87   2020-06-13                               104        4551\n",
       "88   2020-06-14                                96        4647"
      ]
     },
     "execution_count": 138,
     "metadata": {},
     "output_type": "execute_result"
    }
   ],
   "source": [
    "bbb = infection_A[infection_A.region_id == 1]\n",
    "\n",
    "bbb_ts_list = bbb[\"number_of_newly_infected_persons\"].tolist() \n",
    "# tolist - (https://stackoverflow.com/questions/23748995/pandas-dataframe-column-to-list)\n",
    "bbb_ts_newlist = np.cumsum(bbb_ts_list)\n",
    "# numpy.cumsum() - (https://numpy.org/doc/stable/reference/generated/numpy.cumsum.html?highlight=cumsum#numpy.cumsum)\n",
    "bbb[\"timeseries\"] = bbb_ts_newlist\n",
    "bbb = bbb.loc[:, [\"dateTimeTrue\",\"number_of_newly_infected_persons\",\"timeseries\"]]\n",
    "# index,subset,slicing - (https://datacarpentry.org/python-ecology-lesson/03-index-slice-subset/)\n",
    "\n",
    "bbb"
   ]
  },
  {
   "cell_type": "code",
   "execution_count": 139,
   "metadata": {},
   "outputs": [
    {
     "data": {
      "text/plain": [
       "<matplotlib.axes._subplots.AxesSubplot at 0x1a5a512150>"
      ]
     },
     "execution_count": 139,
     "metadata": {},
     "output_type": "execute_result"
    },
    {
     "data": {
      "image/png": "[encoded data removed]",
      "text/plain": [
       "<Figure size 432x288 with 1 Axes>"
      ]
     },
     "metadata": {
      "needs_background": "light"
     },
     "output_type": "display_data"
    }
   ],
   "source": [
    "bbb.plot()"
   ]
  },
  {
   "cell_type": "code",
   "execution_count": 141,
   "metadata": {},
   "outputs": [],
   "source": [
    "# (shorturl.at/pIX48)\n",
    "X = bbb[\"timeseries\"].values.reshape(-1,1)\n",
    "y = bbb[\"number_of_newly_infected_persons\"].values.reshape(-1,1)"
   ]
  },
  {
   "cell_type": "code",
   "execution_count": 142,
   "metadata": {},
   "outputs": [],
   "source": [
    "X_train, X_test, y_train, y_test = train_test_split(X, y, test_size=0.2, random_state=0)"
   ]
  },
  {
   "cell_type": "code",
   "execution_count": 143,
   "metadata": {},
   "outputs": [
    {
     "data": {
      "text/plain": [
       "LinearRegression(copy_X=True, fit_intercept=True, n_jobs=None, normalize=False)"
      ]
     },
     "execution_count": 143,
     "metadata": {},
     "output_type": "execute_result"
    }
   ],
   "source": [
    "regressor = LinearRegression()  \n",
    "regressor.fit(X_train, y_train)"
   ]
  },
  {
   "cell_type": "code",
   "execution_count": 144,
   "metadata": {},
   "outputs": [
    {
     "name": "stdout",
     "output_type": "stream",
     "text": [
      "[45.25446521]\n",
      "[[0.04693309]]\n"
     ]
    }
   ],
   "source": [
    "# intercept:\n",
    "print(regressor.intercept_)\n",
    "# slope:\n",
    "print(regressor.coef_)"
   ]
  },
  {
   "cell_type": "code",
   "execution_count": 145,
   "metadata": {},
   "outputs": [],
   "source": [
    "y_pred = regressor.predict(X_test)"
   ]
  },
  {
   "cell_type": "code",
   "execution_count": 146,
   "metadata": {},
   "outputs": [
    {
     "data": {
      "text/html": [
       "<div>\n",
       "<style scoped>\n",
       "    .dataframe tbody tr th:only-of-type {\n",
       "        vertical-align: middle;\n",
       "    }\n",
       "\n",
       "    .dataframe tbody tr th {\n",
       "        vertical-align: top;\n",
       "    }\n",
       "\n",
       "    .dataframe thead th {\n",
       "        text-align: right;\n",
       "    }\n",
       "</style>\n",
       "<table border=\"1\" class=\"dataframe\">\n",
       "  <thead>\n",
       "    <tr style=\"text-align: right;\">\n",
       "      <th></th>\n",
       "      <th>Actual</th>\n",
       "      <th>Predicted</th>\n",
       "    </tr>\n",
       "  </thead>\n",
       "  <tbody>\n",
       "    <tr>\n",
       "      <td>0</td>\n",
       "      <td>311</td>\n",
       "      <td>87.916641</td>\n",
       "    </tr>\n",
       "    <tr>\n",
       "      <td>1</td>\n",
       "      <td>229</td>\n",
       "      <td>227.730305</td>\n",
       "    </tr>\n",
       "    <tr>\n",
       "      <td>2</td>\n",
       "      <td>103</td>\n",
       "      <td>55.157346</td>\n",
       "    </tr>\n",
       "    <tr>\n",
       "      <td>3</td>\n",
       "      <td>0</td>\n",
       "      <td>45.254465</td>\n",
       "    </tr>\n",
       "    <tr>\n",
       "      <td>4</td>\n",
       "      <td>0</td>\n",
       "      <td>45.254465</td>\n",
       "    </tr>\n",
       "    <tr>\n",
       "      <td>5</td>\n",
       "      <td>28</td>\n",
       "      <td>47.413387</td>\n",
       "    </tr>\n",
       "    <tr>\n",
       "      <td>6</td>\n",
       "      <td>128</td>\n",
       "      <td>61.164781</td>\n",
       "    </tr>\n",
       "    <tr>\n",
       "      <td>7</td>\n",
       "      <td>0</td>\n",
       "      <td>45.254465</td>\n",
       "    </tr>\n",
       "    <tr>\n",
       "      <td>8</td>\n",
       "      <td>152</td>\n",
       "      <td>234.864134</td>\n",
       "    </tr>\n",
       "  </tbody>\n",
       "</table>\n",
       "</div>"
      ],
      "text/plain": [
       "   Actual   Predicted\n",
       "0     311   87.916641\n",
       "1     229  227.730305\n",
       "2     103   55.157346\n",
       "3       0   45.254465\n",
       "4       0   45.254465\n",
       "5      28   47.413387\n",
       "6     128   61.164781\n",
       "7       0   45.254465\n",
       "8     152  234.864134"
      ]
     },
     "execution_count": 146,
     "metadata": {},
     "output_type": "execute_result"
    }
   ],
   "source": [
    "df = pd.DataFrame({'Actual': y_test.flatten(), 'Predicted': y_pred.flatten()})\n",
    "df"
   ]
  },
  {
   "cell_type": "code",
   "execution_count": 149,
   "metadata": {},
   "outputs": [
    {
     "name": "stdout",
     "output_type": "stream",
     "text": [
      "Mean Absolute Error: 64.11909371687395\n",
      "Mean Squared Error: 7767.878601860147\n",
      "Root Mean Squared Error: 88.13556944764211\n"
     ]
    }
   ],
   "source": [
    "print('Mean Absolute Error:', metrics.mean_absolute_error(y_test, y_pred))  \n",
    "print('Mean Squared Error:', metrics.mean_squared_error(y_test, y_pred))  \n",
    "print('Root Mean Squared Error:', np.sqrt(metrics.mean_squared_error(y_test, y_pred)))"
   ]
  },
  {
   "cell_type": "code",
   "execution_count": null,
   "metadata": {},
   "outputs": [],
   "source": []
  }
 ],
 "metadata": {
  "kernelspec": {
   "display_name": "Python 3",
   "language": "python",
   "name": "python3"
  },
  "language_info": {
   "codemirror_mode": {
    "name": "ipython",
    "version": 3
   },
   "file_extension": ".py",
   "mimetype": "text/x-python",
   "name": "python",
   "nbconvert_exporter": "python",
   "pygments_lexer": "ipython3",
   "version": "3.7.4"
  }
 },
 "nbformat": 4,
 "nbformat_minor": 2
}
