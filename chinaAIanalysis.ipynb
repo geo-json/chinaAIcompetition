{
 "cells": [
  {
   "cell_type": "code",
   "execution_count": null,
   "metadata": {},
   "outputs": [],
   "source": [
    "import pandas as pd\n",
    "import numpy as np\n",
    "import matplotlib.pyplot as plt\n",
    "from matplotlib.pyplot import figure\n",
    "from datetime import datetime\n",
    "from sklearn.model_selection import RandomizedSearchCV, train_test_split\n",
    "from sklearn.svm import SVR\n",
    "from sklearn.metrics import mean_absolute_error, mean_squared_error"
   ]
  },
  {
   "cell_type": "code",
   "execution_count": null,
   "metadata": {},
   "outputs": [],
   "source": [
    "# City A\n",
    "density_A = pd.read_csv(\"C:/Users/vinee/Desktop/train_data/city_A_new/density.csv\")\n",
    "grid_attr_A = pd.read_csv(\"C:/Users/vinee/Desktop/train_data/city_A_new/grid_attr.csv\")\n",
    "infection_A = pd.read_csv(\"C:/Users/vinee/Desktop/train_data/city_A_new/infection.csv\")\n",
    "migration_A = pd.read_csv(\"C:/Users/vinee/Desktop/train_data/city_A_new/migration.csv\")\n",
    "transfer_A = pd.read_csv(\"C:/Users/vinee/Desktop/train_data/city_A_new/transfer.csv\")\n",
    "weather_A = pd.read_csv(\"C:/Users/vinee/Desktop/train_data/city_A_new/weather.csv\")"
   ]
  },
  {
   "cell_type": "code",
   "execution_count": null,
   "metadata": {},
   "outputs": [],
   "source": [
    "# City B\n",
    "density_B = pd.read_csv(\"C:/Users/vinee/Desktop/train_data/city_B_new/density.csv\")\n",
    "grid_attr_B = pd.read_csv(\"C:/Users/vinee/Desktop/train_data/city_B_new/grid_attr.csv\")\n",
    "infection_B = pd.read_csv(\"C:/Users/vinee/Desktop/train_data/city_B_new/infection.csv\")\n",
    "migration_B = pd.read_csv(\"C:/Users/vinee/Desktop/train_data/city_B_new/migration.csv\")\n",
    "transfer_B = pd.read_csv(\"C:/Users/vinee/Desktop/train_data/city_B_new/transfer.csv\")\n",
    "weather_B = pd.read_csv(\"C:/Users/vinee/Desktop/train_data/city_B_new/weather.csv\")"
   ]
  },
  {
   "cell_type": "code",
   "execution_count": null,
   "metadata": {},
   "outputs": [],
   "source": [
    "# City C\n",
    "density_C = pd.read_csv(\"C:/Users/vinee/Desktop/train_data/city_C_new/density.csv\")\n",
    "grid_attr_C = pd.read_csv(\"C:/Users/vinee/Desktop/train_data/city_C_new/grid_attr.csv\")\n",
    "infection_C = pd.read_csv(\"C:/Users/vinee/Desktop/train_data/city_C_new/infection.csv\")\n",
    "migration_C = pd.read_csv(\"C:/Users/vinee/Desktop/train_data/city_C_new/migration.csv\")\n",
    "transfer_C = pd.read_csv(\"C:/Users/vinee/Desktop/train_data/city_C_new/transfer.csv\")\n",
    "weather_C = pd.read_csv(\"C:/Users/vinee/Desktop/train_data/city_C_new/weather.csv\")"
   ]
  },
  {
   "cell_type": "code",
   "execution_count": null,
   "metadata": {},
   "outputs": [],
   "source": [
    "# City D\n",
    "density_D = pd.read_csv(\"C:/Users/vinee/Desktop/train_data/city_D_new/density.csv\")\n",
    "grid_attr_D = pd.read_csv(\"C:/Users/vinee/Desktop/train_data/city_D_new/grid_attr.csv\")\n",
    "infection_D = pd.read_csv(\"C:/Users/vinee/Desktop/train_data/city_D_new/infection.csv\")\n",
    "migration_D = pd.read_csv(\"C:/Users/vinee/Desktop/train_data/city_D_new/migration.csv\")\n",
    "transfer_D = pd.read_csv(\"C:/Users/vinee/Desktop/train_data/city_D_new/transfer.csv\")\n",
    "weather_D = pd.read_csv(\"C:/Users/vinee/Desktop/train_data/city_D_new/weather.csv\")"
   ]
  },
  {
   "cell_type": "code",
   "execution_count": null,
   "metadata": {},
   "outputs": [],
   "source": [
    "# City E\n",
    "density_E = pd.read_csv(\"C:/Users/vinee/Desktop/train_data/city_E_new/density.csv\")\n",
    "grid_attr_E = pd.read_csv(\"C:/Users/vinee/Desktop/train_data/city_E_new/grid_attr.csv\")\n",
    "infection_E = pd.read_csv(\"C:/Users/vinee/Desktop/train_data/city_E_new/infection.csv\")\n",
    "migration_E = pd.read_csv(\"C:/Users/vinee/Desktop/train_data/city_E_new/migration.csv\")\n",
    "transfer_E = pd.read_csv(\"C:/Users/vinee/Desktop/train_data/city_E_new/transfer.csv\")\n",
    "weather_E = pd.read_csv(\"C:/Users/vinee/Desktop/train_data/city_E_new/weather.csv\")"
   ]
  }
 ],
 "metadata": {
  "kernelspec": {
   "display_name": "Python 3",
   "language": "python",
   "name": "python3"
  },
  "language_info": {
   "codemirror_mode": {
    "name": "ipython",
    "version": 3
   },
   "file_extension": ".py",
   "mimetype": "text/x-python",
   "name": "python",
   "nbconvert_exporter": "python",
   "pygments_lexer": "ipython3",
   "version": "3.7.6"
  }
 },
 "nbformat": 4,
 "nbformat_minor": 4
}
